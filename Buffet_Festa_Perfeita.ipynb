{
  "nbformat": 4,
  "nbformat_minor": 0,
  "metadata": {
    "colab": {
      "provenance": [],
      "authorship_tag": "ABX9TyP80qwZdSlpIBh6HuxXD4Xc",
      "include_colab_link": true
    },
    "kernelspec": {
      "name": "python3",
      "display_name": "Python 3"
    },
    "language_info": {
      "name": "python"
    }
  },
  "cells": [
    {
      "cell_type": "markdown",
      "metadata": {
        "id": "view-in-github",
        "colab_type": "text"
      },
      "source": [
        "<a href=\"https://colab.research.google.com/github/NatalieWF/Buffet-Festa-Perfeita/blob/main/Buffet_Festa_Perfeita.ipynb\" target=\"_parent\"><img src=\"https://colab.research.google.com/assets/colab-badge.svg\" alt=\"Open In Colab\"/></a>"
      ]
    },
    {
      "cell_type": "code",
      "execution_count": 1,
      "metadata": {
        "colab": {
          "base_uri": "https://localhost:8080/"
        },
        "id": "-V0CBev2gjdR",
        "outputId": "07d9cd7b-9de4-4840-dd05-454877b7736d"
      },
      "outputs": [
        {
          "output_type": "stream",
          "name": "stdout",
          "text": [
            "Quantidade de convidados (mínimo cinquenta): 50\n",
            "Quantidade de carnes: (15.9, 'Kg')\n",
            "Quantidade de latas de refrigerante: 600\n",
            "Quantidade de doces: 50\n"
          ]
        }
      ],
      "source": [
        "# Questão do Buffet Festa Perfeita.\n",
        "convidados = int(input(\"Quantidade de convidados (mínimo cinquenta): \"))\n",
        "\n",
        "if convidados < (50):\n",
        "   resultado(\"Quantidade recomendada são de no mínimo 50 pessoas!\")\n",
        "\n",
        "else:\n",
        "   carne = 0.300\n",
        "   refrigerante = 3\n",
        "   doce = 1\n",
        "   total_de_carne = float(carne + carne * 6/100) * convidados, \"Kg\"\n",
        "\n",
        "\n",
        "\n",
        "   print(\"Quantidade de carnes:\", total_de_carne)\n",
        "   print(\"Quantidade de latas de refrigerante:\", (refrigerante + 9) * convidados)\n",
        "   print(\"Quantidade de doces:\", doce * convidados)"
      ]
    }
  ]
}